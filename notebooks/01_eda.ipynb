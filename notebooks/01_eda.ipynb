{
 "cells": [
  {
   "cell_type": "markdown",
   "id": "0c531069",
   "metadata": {},
   "source": [
    "## Data Load and Setup"
   ]
  },
  {
   "cell_type": "code",
   "execution_count": 91,
   "id": "e76b2bad",
   "metadata": {},
   "outputs": [
    {
     "data": {
      "text/plain": [
       "(1000, 21)"
      ]
     },
     "execution_count": 91,
     "metadata": {},
     "output_type": "execute_result"
    }
   ],
   "source": [
    "import pandas as pd\n",
    "from pathlib import Path\n",
    "\n",
    "DATA_PATH = Path(\"../data/german_credit_cleaned.csv\")\n",
    "df = pd.read_csv(DATA_PATH)\n",
    "df.shape"
   ]
  },
  {
   "cell_type": "markdown",
   "id": "0362ff50",
   "metadata": {},
   "source": [
    "## Exploratory Data Analysis (EDA)"
   ]
  },
  {
   "cell_type": "code",
   "execution_count": 92,
   "id": "eb0c301b",
   "metadata": {},
   "outputs": [
    {
     "data": {
      "text/plain": [
       "target\n",
       "good    0.7\n",
       "bad     0.3\n",
       "Name: proportion, dtype: float64"
      ]
     },
     "execution_count": 92,
     "metadata": {},
     "output_type": "execute_result"
    }
   ],
   "source": [
    "# Check the balance between \"good\" and \"bad\" credit\n",
    "df[\"target\"].value_counts(normalize=True)"
   ]
  },
  {
   "cell_type": "code",
   "execution_count": 93,
   "id": "5e7807e4",
   "metadata": {},
   "outputs": [
    {
     "data": {
      "text/html": [
       "<div>\n",
       "<style scoped>\n",
       "    .dataframe tbody tr th:only-of-type {\n",
       "        vertical-align: middle;\n",
       "    }\n",
       "\n",
       "    .dataframe tbody tr th {\n",
       "        vertical-align: top;\n",
       "    }\n",
       "\n",
       "    .dataframe thead th {\n",
       "        text-align: right;\n",
       "    }\n",
       "</style>\n",
       "<table border=\"1\" class=\"dataframe\">\n",
       "  <thead>\n",
       "    <tr style=\"text-align: right;\">\n",
       "      <th></th>\n",
       "      <th>count</th>\n",
       "      <th>mean</th>\n",
       "      <th>std</th>\n",
       "      <th>min</th>\n",
       "      <th>25%</th>\n",
       "      <th>50%</th>\n",
       "      <th>75%</th>\n",
       "      <th>max</th>\n",
       "    </tr>\n",
       "  </thead>\n",
       "  <tbody>\n",
       "    <tr>\n",
       "      <th>duration</th>\n",
       "      <td>1000.0</td>\n",
       "      <td>20.903</td>\n",
       "      <td>12.058814</td>\n",
       "      <td>4.0</td>\n",
       "      <td>12.0</td>\n",
       "      <td>18.0</td>\n",
       "      <td>24.00</td>\n",
       "      <td>72.0</td>\n",
       "    </tr>\n",
       "    <tr>\n",
       "      <th>loan_amt</th>\n",
       "      <td>1000.0</td>\n",
       "      <td>3271.258</td>\n",
       "      <td>2822.736876</td>\n",
       "      <td>250.0</td>\n",
       "      <td>1365.5</td>\n",
       "      <td>2319.5</td>\n",
       "      <td>3972.25</td>\n",
       "      <td>18424.0</td>\n",
       "    </tr>\n",
       "    <tr>\n",
       "      <th>installment_rate</th>\n",
       "      <td>1000.0</td>\n",
       "      <td>2.973</td>\n",
       "      <td>1.118715</td>\n",
       "      <td>1.0</td>\n",
       "      <td>2.0</td>\n",
       "      <td>3.0</td>\n",
       "      <td>4.00</td>\n",
       "      <td>4.0</td>\n",
       "    </tr>\n",
       "    <tr>\n",
       "      <th>present_residence_since</th>\n",
       "      <td>1000.0</td>\n",
       "      <td>2.845</td>\n",
       "      <td>1.103718</td>\n",
       "      <td>1.0</td>\n",
       "      <td>2.0</td>\n",
       "      <td>3.0</td>\n",
       "      <td>4.00</td>\n",
       "      <td>4.0</td>\n",
       "    </tr>\n",
       "    <tr>\n",
       "      <th>age</th>\n",
       "      <td>1000.0</td>\n",
       "      <td>35.546</td>\n",
       "      <td>11.375469</td>\n",
       "      <td>19.0</td>\n",
       "      <td>27.0</td>\n",
       "      <td>33.0</td>\n",
       "      <td>42.00</td>\n",
       "      <td>75.0</td>\n",
       "    </tr>\n",
       "    <tr>\n",
       "      <th>num_curr_loans</th>\n",
       "      <td>1000.0</td>\n",
       "      <td>1.407</td>\n",
       "      <td>0.577654</td>\n",
       "      <td>1.0</td>\n",
       "      <td>1.0</td>\n",
       "      <td>1.0</td>\n",
       "      <td>2.00</td>\n",
       "      <td>4.0</td>\n",
       "    </tr>\n",
       "    <tr>\n",
       "      <th>num_people_provide_maint</th>\n",
       "      <td>1000.0</td>\n",
       "      <td>1.155</td>\n",
       "      <td>0.362086</td>\n",
       "      <td>1.0</td>\n",
       "      <td>1.0</td>\n",
       "      <td>1.0</td>\n",
       "      <td>1.00</td>\n",
       "      <td>2.0</td>\n",
       "    </tr>\n",
       "  </tbody>\n",
       "</table>\n",
       "</div>"
      ],
      "text/plain": [
       "                           count      mean          std    min     25%  \\\n",
       "duration                  1000.0    20.903    12.058814    4.0    12.0   \n",
       "loan_amt                  1000.0  3271.258  2822.736876  250.0  1365.5   \n",
       "installment_rate          1000.0     2.973     1.118715    1.0     2.0   \n",
       "present_residence_since   1000.0     2.845     1.103718    1.0     2.0   \n",
       "age                       1000.0    35.546    11.375469   19.0    27.0   \n",
       "num_curr_loans            1000.0     1.407     0.577654    1.0     1.0   \n",
       "num_people_provide_maint  1000.0     1.155     0.362086    1.0     1.0   \n",
       "\n",
       "                             50%      75%      max  \n",
       "duration                    18.0    24.00     72.0  \n",
       "loan_amt                  2319.5  3972.25  18424.0  \n",
       "installment_rate             3.0     4.00      4.0  \n",
       "present_residence_since      3.0     4.00      4.0  \n",
       "age                         33.0    42.00     75.0  \n",
       "num_curr_loans               1.0     2.00      4.0  \n",
       "num_people_provide_maint     1.0     1.00      2.0  "
      ]
     },
     "execution_count": 93,
     "metadata": {},
     "output_type": "execute_result"
    }
   ],
   "source": [
    "df.describe().T"
   ]
  },
  {
   "cell_type": "code",
   "execution_count": 94,
   "id": "eff28fcc",
   "metadata": {},
   "outputs": [
    {
     "data": {
      "text/plain": [
       "checking_acc_status         0\n",
       "property                    0\n",
       "is_foreign_worker           0\n",
       "telephone                   0\n",
       "num_people_provide_maint    0\n",
       "job                         0\n",
       "num_curr_loans              0\n",
       "housing                     0\n",
       "other_installment_plans     0\n",
       "age                         0\n",
       "present_residence_since     0\n",
       "duration                    0\n",
       "other_debtors_guarantors    0\n",
       "personal_stat_gender        0\n",
       "installment_rate            0\n",
       "present_employment_since    0\n",
       "saving_acc_bonds            0\n",
       "loan_amt                    0\n",
       "purpose                     0\n",
       "cred_hist                   0\n",
       "target                      0\n",
       "dtype: int64"
      ]
     },
     "execution_count": 94,
     "metadata": {},
     "output_type": "execute_result"
    }
   ],
   "source": [
    "# Check for missing values across all columns\n",
    "df.isnull().sum().sort_values(ascending=False)"
   ]
  },
  {
   "cell_type": "code",
   "execution_count": 95,
   "id": "9b8cff92",
   "metadata": {},
   "outputs": [
    {
     "data": {
      "text/plain": [
       "(7,\n",
       " 14,\n",
       " ['duration',\n",
       "  'loan_amt',\n",
       "  'installment_rate',\n",
       "  'present_residence_since',\n",
       "  'age'],\n",
       " ['checking_acc_status',\n",
       "  'cred_hist',\n",
       "  'purpose',\n",
       "  'saving_acc_bonds',\n",
       "  'present_employment_since'])"
      ]
     },
     "execution_count": 95,
     "metadata": {},
     "output_type": "execute_result"
    }
   ],
   "source": [
    "# Identify numeric and categorical features\n",
    "num_cols = df.select_dtypes(include=[\"number\"]).columns.tolist()\n",
    "cat_cols = df.select_dtypes(exclude=[\"number\"]).columns.tolist()\n",
    "\n",
    "len(num_cols), len(cat_cols), num_cols[:5], cat_cols[:5]"
   ]
  },
  {
   "cell_type": "code",
   "execution_count": 96,
   "id": "96864e4e",
   "metadata": {},
   "outputs": [
    {
     "data": {
      "text/plain": [
       "telephone                    2\n",
       "is_foreign_worker            2\n",
       "target                       2\n",
       "other_debtors_guarantors     3\n",
       "other_installment_plans      3\n",
       "housing                      3\n",
       "checking_acc_status          4\n",
       "personal_stat_gender         4\n",
       "property                     4\n",
       "job                          4\n",
       "cred_hist                    5\n",
       "saving_acc_bonds             5\n",
       "present_employment_since     5\n",
       "purpose                     10\n",
       "dtype: int64"
      ]
     },
     "execution_count": 96,
     "metadata": {},
     "output_type": "execute_result"
    }
   ],
   "source": [
    "# Count unique values in each categorical column\n",
    "df[cat_cols].nunique().sort_values()"
   ]
  },
  {
   "cell_type": "code",
   "execution_count": 97,
   "id": "a646715d",
   "metadata": {},
   "outputs": [],
   "source": [
    "## Feature Engineering & Data Preparation"
   ]
  },
  {
   "cell_type": "code",
   "execution_count": 98,
   "id": "a68ce7d3",
   "metadata": {},
   "outputs": [
    {
     "data": {
      "text/plain": [
       "(['installment_rate',\n",
       "  'present_residence_since',\n",
       "  'num_curr_loans',\n",
       "  'num_people_provide_maint'],\n",
       " ['duration', 'loan_amt', 'age'])"
      ]
     },
     "execution_count": 98,
     "metadata": {},
     "output_type": "execute_result"
    }
   ],
   "source": [
    "# Separate numeric categorical vs continuous numeric features\n",
    "u = df.nunique()\n",
    "numeric_categorical = [c for c in num_cols if u[c] <= 10]\n",
    "numeric_continuous = [c for c in num_cols if u[c] > 10]\n",
    "\n",
    "numeric_categorical, numeric_continuous"
   ]
  },
  {
   "cell_type": "code",
   "execution_count": 99,
   "id": "9ca73a3b",
   "metadata": {},
   "outputs": [
    {
     "data": {
      "text/plain": [
       "array([4, 2, 3, 1])"
      ]
     },
     "execution_count": 99,
     "metadata": {},
     "output_type": "execute_result"
    }
   ],
   "source": [
    "# Inspect values of a numeric categorical feature\n",
    "df[\"installment_rate\"].unique()"
   ]
  },
  {
   "cell_type": "code",
   "execution_count": 100,
   "id": "f644e302",
   "metadata": {},
   "outputs": [
    {
     "data": {
      "text/plain": [
       "installment_rate            category\n",
       "present_residence_since     category\n",
       "num_curr_loans              category\n",
       "num_people_provide_maint    category\n",
       "dtype: object"
      ]
     },
     "execution_count": 100,
     "metadata": {},
     "output_type": "execute_result"
    }
   ],
   "source": [
    "# Convert numeric categorical features to category dtype (for clarity)\n",
    "for c in numeric_categorical:\n",
    "    df[c] = df[c].astype(\"category\")\n",
    "\n",
    "df[numeric_categorical].dtypes"
   ]
  },
  {
   "cell_type": "code",
   "execution_count": 101,
   "id": "a2142bf2",
   "metadata": {},
   "outputs": [
    {
     "data": {
      "text/plain": [
       "['checking_acc_status',\n",
       " 'cred_hist',\n",
       " 'purpose',\n",
       " 'saving_acc_bonds',\n",
       " 'present_employment_since',\n",
       " 'personal_stat_gender',\n",
       " 'other_debtors_guarantors',\n",
       " 'property',\n",
       " 'other_installment_plans',\n",
       " 'housing',\n",
       " 'job',\n",
       " 'telephone',\n",
       " 'is_foreign_worker',\n",
       " 'target']"
      ]
     },
     "execution_count": 101,
     "metadata": {},
     "output_type": "execute_result"
    }
   ],
   "source": [
    "cat_cols"
   ]
  },
  {
   "cell_type": "code",
   "execution_count": 102,
   "id": "b0f80699",
   "metadata": {},
   "outputs": [
    {
     "data": {
      "text/plain": [
       "telephone                    2\n",
       "is_foreign_worker            2\n",
       "other_debtors_guarantors     3\n",
       "other_installment_plans      3\n",
       "housing                      3\n",
       "checking_acc_status          4\n",
       "personal_stat_gender         4\n",
       "property                     4\n",
       "job                          4\n",
       "cred_hist                    5\n",
       "saving_acc_bonds             5\n",
       "present_employment_since     5\n",
       "purpose                     10\n",
       "dtype: int64"
      ]
     },
     "execution_count": 102,
     "metadata": {},
     "output_type": "execute_result"
    }
   ],
   "source": [
    "# Remove target from categorical features and check unique category counts\n",
    "cat_cols = [c for c in cat_cols if c != \"target\"]\n",
    "\n",
    "df[cat_cols].nunique().sort_values()"
   ]
  },
  {
   "cell_type": "code",
   "execution_count": 103,
   "id": "4cdb52f3",
   "metadata": {},
   "outputs": [
    {
     "name": "stdout",
     "output_type": "stream",
     "text": [
      "checking_acc_status → ['below_0' 'below_200' 'no_cheking_acc' 'above:200']\n",
      "cred_hist → ['risky_acc_or_curr_loan_other' 'curr_loans_paid_duly' 'delay_in_past'\n",
      " 'no_loan_or_paid_duly_other' 'paid_duly_this_bank']\n",
      "purpose → ['radio_tv' 'education' 'furniture_equipment' 'car_new' 'car_used'\n",
      " 'business' 'domestic_applience' 'repairs' 'others' 'retraining']\n",
      "saving_acc_bonds → ['unknown_no_saving_acc' 'below_100' 'below_1000' 'above_1000' 'below_500']\n",
      "present_employment_since → ['above_7y' 'below_4y' 'below_7y' 'unemployed' 'below_1y']\n",
      "personal_stat_gender → ['male:single' 'female:divorced_or_married' 'male:divorced'\n",
      " 'male:married_or_widowed']\n",
      "other_debtors_guarantors → ['none' 'guarantor' 'co_applicant']\n",
      "property → ['real_estate' 'life_insurance_or_aggreements' 'unknown_or_no_property'\n",
      " 'car_or_other']\n",
      "other_installment_plans → ['none' 'bank' 'store']\n",
      "housing → ['own' 'for_free' 'rent']\n",
      "job → ['skilled_official' 'unskilled_resident' 'management_or_self_emp'\n",
      " 'unemployed_non_resident']\n",
      "telephone → ['yes' 'no']\n",
      "is_foreign_worker → ['yes' 'no']\n"
     ]
    }
   ],
   "source": [
    "# Inspect all categorical feature values to verify categories and spot formatting issues\n",
    "for c in cat_cols:\n",
    "    print(c, \"→\", df[c].unique())"
   ]
  },
  {
   "cell_type": "code",
   "execution_count": 104,
   "id": "5a9134f4",
   "metadata": {},
   "outputs": [],
   "source": [
    "# Encode 'checking_acc_status' as ordered categories (higher = better financial standing)\n",
    "checking_map = {\"no_cheking_acc\": 0, \"below_0\": 1, \"below_200\": 2, \"above:200\": 3}\n",
    "\n",
    "df[\"checking_acc_status\"] = df[\"checking_acc_status\"].map(checking_map)"
   ]
  },
  {
   "cell_type": "code",
   "execution_count": 105,
   "id": "bda0ca4d",
   "metadata": {},
   "outputs": [
    {
     "data": {
      "text/plain": [
       "array(['unknown_no_saving_acc', 'below_100', 'below_1000', 'above_1000',\n",
       "       'below_500'], dtype=object)"
      ]
     },
     "execution_count": 105,
     "metadata": {},
     "output_type": "execute_result"
    }
   ],
   "source": [
    "df[\"saving_acc_bonds\"].unique()"
   ]
  },
  {
   "cell_type": "code",
   "execution_count": 106,
   "id": "5e6f422d",
   "metadata": {},
   "outputs": [
    {
     "data": {
      "text/plain": [
       "array([0, 1, 3, 4, 2])"
      ]
     },
     "execution_count": 106,
     "metadata": {},
     "output_type": "execute_result"
    }
   ],
   "source": [
    "# Encode 'saving_acc_bonds' (higher = more savings)\n",
    "saving_map = {\n",
    "    \"unknown_no_saving_acc\": 0,\n",
    "    \"below_100\": 1,\n",
    "    \"below_500\": 2,\n",
    "    \"below_1000\": 3,\n",
    "    \"above_1000\": 4,\n",
    "}\n",
    "df[\"saving_acc_bonds\"] = df[\"saving_acc_bonds\"].map(saving_map)\n",
    "df[\"saving_acc_bonds\"].unique()"
   ]
  },
  {
   "cell_type": "code",
   "execution_count": 107,
   "id": "b0740232",
   "metadata": {},
   "outputs": [
    {
     "data": {
      "text/plain": [
       "array(['above_7y', 'below_4y', 'below_7y', 'unemployed', 'below_1y'],\n",
       "      dtype=object)"
      ]
     },
     "execution_count": 107,
     "metadata": {},
     "output_type": "execute_result"
    }
   ],
   "source": [
    "df[\"present_employment_since\"].unique()"
   ]
  },
  {
   "cell_type": "code",
   "execution_count": 108,
   "id": "0d90df67",
   "metadata": {},
   "outputs": [
    {
     "data": {
      "text/plain": [
       "array([4, 2, 3, 0, 1])"
      ]
     },
     "execution_count": 108,
     "metadata": {},
     "output_type": "execute_result"
    }
   ],
   "source": [
    "# Encode 'present_employment_since' (higher = longer employment stability)\n",
    "employment_map = {\n",
    "    \"unemployed\": 0,\n",
    "    \"below_1y\": 1,\n",
    "    \"below_4y\": 2,\n",
    "    \"below_7y\": 3,\n",
    "    \"above_7y\": 4,\n",
    "}\n",
    "df[\"present_employment_since\"] = df[\"present_employment_since\"].map(employment_map)\n",
    "df[\"present_employment_since\"].unique()"
   ]
  },
  {
   "cell_type": "code",
   "execution_count": 109,
   "id": "116008f3",
   "metadata": {},
   "outputs": [
    {
     "data": {
      "text/plain": [
       "array(['male:single', 'female:divorced_or_married', 'male:divorced',\n",
       "       'male:married_or_widowed'], dtype=object)"
      ]
     },
     "execution_count": 109,
     "metadata": {},
     "output_type": "execute_result"
    }
   ],
   "source": [
    "df[\"personal_stat_gender\"].unique()"
   ]
  },
  {
   "cell_type": "code",
   "execution_count": 110,
   "id": "e4572c68",
   "metadata": {},
   "outputs": [
    {
     "data": {
      "text/html": [
       "<div>\n",
       "<style scoped>\n",
       "    .dataframe tbody tr th:only-of-type {\n",
       "        vertical-align: middle;\n",
       "    }\n",
       "\n",
       "    .dataframe tbody tr th {\n",
       "        vertical-align: top;\n",
       "    }\n",
       "\n",
       "    .dataframe thead th {\n",
       "        text-align: right;\n",
       "    }\n",
       "</style>\n",
       "<table border=\"1\" class=\"dataframe\">\n",
       "  <thead>\n",
       "    <tr style=\"text-align: right;\">\n",
       "      <th></th>\n",
       "      <th>gender</th>\n",
       "      <th>personal_status</th>\n",
       "    </tr>\n",
       "  </thead>\n",
       "  <tbody>\n",
       "    <tr>\n",
       "      <th>0</th>\n",
       "      <td>male</td>\n",
       "      <td>single</td>\n",
       "    </tr>\n",
       "    <tr>\n",
       "      <th>1</th>\n",
       "      <td>female</td>\n",
       "      <td>divorced_or_married</td>\n",
       "    </tr>\n",
       "    <tr>\n",
       "      <th>2</th>\n",
       "      <td>male</td>\n",
       "      <td>single</td>\n",
       "    </tr>\n",
       "    <tr>\n",
       "      <th>3</th>\n",
       "      <td>male</td>\n",
       "      <td>single</td>\n",
       "    </tr>\n",
       "    <tr>\n",
       "      <th>4</th>\n",
       "      <td>male</td>\n",
       "      <td>single</td>\n",
       "    </tr>\n",
       "  </tbody>\n",
       "</table>\n",
       "</div>"
      ],
      "text/plain": [
       "   gender      personal_status\n",
       "0    male               single\n",
       "1  female  divorced_or_married\n",
       "2    male               single\n",
       "3    male               single\n",
       "4    male               single"
      ]
     },
     "execution_count": 110,
     "metadata": {},
     "output_type": "execute_result"
    }
   ],
   "source": [
    "# Split 'personal_stat_gender' into 'gender' and 'personal_status'\n",
    "df[[\"gender\", \"personal_status\"]] = df[\"personal_stat_gender\"].str.split(\n",
    "    \":\", expand=True\n",
    ")\n",
    "\n",
    "df[[\"gender\", \"personal_status\"]].head()"
   ]
  },
  {
   "cell_type": "code",
   "execution_count": 111,
   "id": "c0ad27de",
   "metadata": {},
   "outputs": [
    {
     "data": {
      "text/plain": [
       "gender             2\n",
       "personal_status    4\n",
       "dtype: int64"
      ]
     },
     "execution_count": 111,
     "metadata": {},
     "output_type": "execute_result"
    }
   ],
   "source": [
    "# Split 'personal_stat_gender' into two separate categorical features\n",
    "df.drop(columns=[\"personal_stat_gender\"], inplace=True)\n",
    "\n",
    "df[[\"gender\", \"personal_status\"]].nunique()"
   ]
  },
  {
   "cell_type": "code",
   "execution_count": 112,
   "id": "db4e4fa4",
   "metadata": {},
   "outputs": [],
   "source": [
    "# Update categorical feature list after splitting\n",
    "cat_cols.remove(\"personal_stat_gender\")\n",
    "cat_cols.extend([\"gender\", \"personal_status\"])"
   ]
  },
  {
   "cell_type": "code",
   "execution_count": 113,
   "id": "4ee96650",
   "metadata": {},
   "outputs": [
    {
     "data": {
      "text/plain": [
       "(1000, 50)"
      ]
     },
     "execution_count": 113,
     "metadata": {},
     "output_type": "execute_result"
    }
   ],
   "source": [
    "# One-hot encode remaining categorical features\n",
    "df_encoded = pd.get_dummies(df, columns=cat_cols, drop_first=True)\n",
    "\n",
    "df_encoded.shape"
   ]
  },
  {
   "cell_type": "code",
   "execution_count": 114,
   "id": "fec814d2",
   "metadata": {},
   "outputs": [
    {
     "data": {
      "text/plain": [
       "['installment_rate',\n",
       " 'present_residence_since',\n",
       " 'num_curr_loans',\n",
       " 'num_people_provide_maint',\n",
       " 'checking_acc_status_1',\n",
       " 'checking_acc_status_2',\n",
       " 'checking_acc_status_3',\n",
       " 'cred_hist_delay_in_past',\n",
       " 'cred_hist_no_loan_or_paid_duly_other',\n",
       " 'cred_hist_paid_duly_this_bank',\n",
       " 'cred_hist_risky_acc_or_curr_loan_other',\n",
       " 'purpose_car_new',\n",
       " 'purpose_car_used',\n",
       " 'purpose_domestic_applience',\n",
       " 'purpose_education',\n",
       " 'purpose_furniture_equipment',\n",
       " 'purpose_others',\n",
       " 'purpose_radio_tv',\n",
       " 'purpose_repairs',\n",
       " 'purpose_retraining',\n",
       " 'saving_acc_bonds_1',\n",
       " 'saving_acc_bonds_2',\n",
       " 'saving_acc_bonds_3',\n",
       " 'saving_acc_bonds_4',\n",
       " 'present_employment_since_1',\n",
       " 'present_employment_since_2',\n",
       " 'present_employment_since_3',\n",
       " 'present_employment_since_4',\n",
       " 'other_debtors_guarantors_guarantor',\n",
       " 'other_debtors_guarantors_none',\n",
       " 'property_life_insurance_or_aggreements',\n",
       " 'property_real_estate',\n",
       " 'property_unknown_or_no_property',\n",
       " 'other_installment_plans_none',\n",
       " 'other_installment_plans_store',\n",
       " 'housing_own',\n",
       " 'housing_rent',\n",
       " 'job_skilled_official',\n",
       " 'job_unemployed_non_resident',\n",
       " 'job_unskilled_resident',\n",
       " 'telephone_yes',\n",
       " 'is_foreign_worker_yes',\n",
       " 'gender_male',\n",
       " 'personal_status_divorced_or_married',\n",
       " 'personal_status_married_or_widowed',\n",
       " 'personal_status_single']"
      ]
     },
     "execution_count": 114,
     "metadata": {},
     "output_type": "execute_result"
    }
   ],
   "source": [
    "# Make label numeric and verify all features are numeric\n",
    "df_encoded[\"target\"] = df[\"target\"].map({\"bad\": 0, \"good\": 1})\n",
    "\n",
    "df_encoded.select_dtypes(exclude=[\"number\"]).columns.tolist()"
   ]
  }
 ],
 "metadata": {
  "kernelspec": {
   "display_name": ".venv",
   "language": "python",
   "name": "python3"
  },
  "language_info": {
   "codemirror_mode": {
    "name": "ipython",
    "version": 3
   },
   "file_extension": ".py",
   "mimetype": "text/x-python",
   "name": "python",
   "nbconvert_exporter": "python",
   "pygments_lexer": "ipython3",
   "version": "3.13.7"
  }
 },
 "nbformat": 4,
 "nbformat_minor": 5
}
