{
 "cells": [
  {
   "cell_type": "markdown",
   "id": "0c531069",
   "metadata": {},
   "source": [
    "## Data Load and Setup"
   ]
  },
  {
   "cell_type": "code",
   "execution_count": 7,
   "id": "e76b2bad",
   "metadata": {},
   "outputs": [
    {
     "data": {
      "text/plain": [
       "(1000, 21)"
      ]
     },
     "execution_count": 7,
     "metadata": {},
     "output_type": "execute_result"
    }
   ],
   "source": [
    "import pandas as pd\n",
    "from pathlib import Path\n",
    "\n",
    "DATA_PATH = Path(\"../data/german_credit_cleaned.csv\")\n",
    "df = pd.read_csv(DATA_PATH)\n",
    "df.shape"
   ]
  },
  {
   "cell_type": "markdown",
   "id": "0362ff50",
   "metadata": {},
   "source": [
    "## Exploratory Data Analysis (EDA)"
   ]
  },
  {
   "cell_type": "code",
   "execution_count": 8,
   "id": "eb0c301b",
   "metadata": {},
   "outputs": [
    {
     "data": {
      "text/plain": [
       "target\n",
       "good    0.7\n",
       "bad     0.3\n",
       "Name: proportion, dtype: float64"
      ]
     },
     "execution_count": 8,
     "metadata": {},
     "output_type": "execute_result"
    }
   ],
   "source": [
    "# Check the balance between \"good\" and \"bad\" credit\n",
    "df[\"target\"].value_counts(normalize=True)"
   ]
  },
  {
   "cell_type": "code",
   "execution_count": 9,
   "id": "5e7807e4",
   "metadata": {},
   "outputs": [
    {
     "data": {
      "text/html": [
       "<div>\n",
       "<style scoped>\n",
       "    .dataframe tbody tr th:only-of-type {\n",
       "        vertical-align: middle;\n",
       "    }\n",
       "\n",
       "    .dataframe tbody tr th {\n",
       "        vertical-align: top;\n",
       "    }\n",
       "\n",
       "    .dataframe thead th {\n",
       "        text-align: right;\n",
       "    }\n",
       "</style>\n",
       "<table border=\"1\" class=\"dataframe\">\n",
       "  <thead>\n",
       "    <tr style=\"text-align: right;\">\n",
       "      <th></th>\n",
       "      <th>count</th>\n",
       "      <th>mean</th>\n",
       "      <th>std</th>\n",
       "      <th>min</th>\n",
       "      <th>25%</th>\n",
       "      <th>50%</th>\n",
       "      <th>75%</th>\n",
       "      <th>max</th>\n",
       "    </tr>\n",
       "  </thead>\n",
       "  <tbody>\n",
       "    <tr>\n",
       "      <th>duration</th>\n",
       "      <td>1000.0</td>\n",
       "      <td>20.903</td>\n",
       "      <td>12.058814</td>\n",
       "      <td>4.0</td>\n",
       "      <td>12.0</td>\n",
       "      <td>18.0</td>\n",
       "      <td>24.00</td>\n",
       "      <td>72.0</td>\n",
       "    </tr>\n",
       "    <tr>\n",
       "      <th>loan_amt</th>\n",
       "      <td>1000.0</td>\n",
       "      <td>3271.258</td>\n",
       "      <td>2822.736876</td>\n",
       "      <td>250.0</td>\n",
       "      <td>1365.5</td>\n",
       "      <td>2319.5</td>\n",
       "      <td>3972.25</td>\n",
       "      <td>18424.0</td>\n",
       "    </tr>\n",
       "    <tr>\n",
       "      <th>installment_rate</th>\n",
       "      <td>1000.0</td>\n",
       "      <td>2.973</td>\n",
       "      <td>1.118715</td>\n",
       "      <td>1.0</td>\n",
       "      <td>2.0</td>\n",
       "      <td>3.0</td>\n",
       "      <td>4.00</td>\n",
       "      <td>4.0</td>\n",
       "    </tr>\n",
       "    <tr>\n",
       "      <th>present_residence_since</th>\n",
       "      <td>1000.0</td>\n",
       "      <td>2.845</td>\n",
       "      <td>1.103718</td>\n",
       "      <td>1.0</td>\n",
       "      <td>2.0</td>\n",
       "      <td>3.0</td>\n",
       "      <td>4.00</td>\n",
       "      <td>4.0</td>\n",
       "    </tr>\n",
       "    <tr>\n",
       "      <th>age</th>\n",
       "      <td>1000.0</td>\n",
       "      <td>35.546</td>\n",
       "      <td>11.375469</td>\n",
       "      <td>19.0</td>\n",
       "      <td>27.0</td>\n",
       "      <td>33.0</td>\n",
       "      <td>42.00</td>\n",
       "      <td>75.0</td>\n",
       "    </tr>\n",
       "    <tr>\n",
       "      <th>num_curr_loans</th>\n",
       "      <td>1000.0</td>\n",
       "      <td>1.407</td>\n",
       "      <td>0.577654</td>\n",
       "      <td>1.0</td>\n",
       "      <td>1.0</td>\n",
       "      <td>1.0</td>\n",
       "      <td>2.00</td>\n",
       "      <td>4.0</td>\n",
       "    </tr>\n",
       "    <tr>\n",
       "      <th>num_people_provide_maint</th>\n",
       "      <td>1000.0</td>\n",
       "      <td>1.155</td>\n",
       "      <td>0.362086</td>\n",
       "      <td>1.0</td>\n",
       "      <td>1.0</td>\n",
       "      <td>1.0</td>\n",
       "      <td>1.00</td>\n",
       "      <td>2.0</td>\n",
       "    </tr>\n",
       "  </tbody>\n",
       "</table>\n",
       "</div>"
      ],
      "text/plain": [
       "                           count      mean          std    min     25%  \\\n",
       "duration                  1000.0    20.903    12.058814    4.0    12.0   \n",
       "loan_amt                  1000.0  3271.258  2822.736876  250.0  1365.5   \n",
       "installment_rate          1000.0     2.973     1.118715    1.0     2.0   \n",
       "present_residence_since   1000.0     2.845     1.103718    1.0     2.0   \n",
       "age                       1000.0    35.546    11.375469   19.0    27.0   \n",
       "num_curr_loans            1000.0     1.407     0.577654    1.0     1.0   \n",
       "num_people_provide_maint  1000.0     1.155     0.362086    1.0     1.0   \n",
       "\n",
       "                             50%      75%      max  \n",
       "duration                    18.0    24.00     72.0  \n",
       "loan_amt                  2319.5  3972.25  18424.0  \n",
       "installment_rate             3.0     4.00      4.0  \n",
       "present_residence_since      3.0     4.00      4.0  \n",
       "age                         33.0    42.00     75.0  \n",
       "num_curr_loans               1.0     2.00      4.0  \n",
       "num_people_provide_maint     1.0     1.00      2.0  "
      ]
     },
     "execution_count": 9,
     "metadata": {},
     "output_type": "execute_result"
    }
   ],
   "source": [
    "df.describe().T"
   ]
  },
  {
   "cell_type": "code",
   "execution_count": 10,
   "id": "eff28fcc",
   "metadata": {},
   "outputs": [
    {
     "data": {
      "text/plain": [
       "checking_acc_status         0\n",
       "property                    0\n",
       "is_foreign_worker           0\n",
       "telephone                   0\n",
       "num_people_provide_maint    0\n",
       "job                         0\n",
       "num_curr_loans              0\n",
       "housing                     0\n",
       "other_installment_plans     0\n",
       "age                         0\n",
       "present_residence_since     0\n",
       "duration                    0\n",
       "other_debtors_guarantors    0\n",
       "personal_stat_gender        0\n",
       "installment_rate            0\n",
       "present_employment_since    0\n",
       "saving_acc_bonds            0\n",
       "loan_amt                    0\n",
       "purpose                     0\n",
       "cred_hist                   0\n",
       "target                      0\n",
       "dtype: int64"
      ]
     },
     "execution_count": 10,
     "metadata": {},
     "output_type": "execute_result"
    }
   ],
   "source": [
    "# Check for missing values across all columns\n",
    "df.isnull().sum().sort_values(ascending=False)"
   ]
  },
  {
   "cell_type": "code",
   "execution_count": 11,
   "id": "9b8cff92",
   "metadata": {},
   "outputs": [
    {
     "data": {
      "text/plain": [
       "(7,\n",
       " 14,\n",
       " ['duration',\n",
       "  'loan_amt',\n",
       "  'installment_rate',\n",
       "  'present_residence_since',\n",
       "  'age'],\n",
       " ['checking_acc_status',\n",
       "  'cred_hist',\n",
       "  'purpose',\n",
       "  'saving_acc_bonds',\n",
       "  'present_employment_since'])"
      ]
     },
     "execution_count": 11,
     "metadata": {},
     "output_type": "execute_result"
    }
   ],
   "source": [
    "# Identify numeric and categorical features\n",
    "num_cols = df.select_dtypes(include=[\"number\"]).columns.tolist()\n",
    "cat_cols = df.select_dtypes(exclude=[\"number\"]).columns.tolist()\n",
    "\n",
    "len(num_cols), len(cat_cols), num_cols[:5], cat_cols[:5]"
   ]
  },
  {
   "cell_type": "code",
   "execution_count": 12,
   "id": "96864e4e",
   "metadata": {},
   "outputs": [
    {
     "data": {
      "text/plain": [
       "telephone                    2\n",
       "is_foreign_worker            2\n",
       "target                       2\n",
       "other_debtors_guarantors     3\n",
       "other_installment_plans      3\n",
       "housing                      3\n",
       "checking_acc_status          4\n",
       "personal_stat_gender         4\n",
       "property                     4\n",
       "job                          4\n",
       "cred_hist                    5\n",
       "saving_acc_bonds             5\n",
       "present_employment_since     5\n",
       "purpose                     10\n",
       "dtype: int64"
      ]
     },
     "execution_count": 12,
     "metadata": {},
     "output_type": "execute_result"
    }
   ],
   "source": [
    "# Count unique values in each categorical column\n",
    "df[cat_cols].nunique().sort_values()"
   ]
  }
 ],
 "metadata": {
  "kernelspec": {
   "display_name": ".venv",
   "language": "python",
   "name": "python3"
  },
  "language_info": {
   "codemirror_mode": {
    "name": "ipython",
    "version": 3
   },
   "file_extension": ".py",
   "mimetype": "text/x-python",
   "name": "python",
   "nbconvert_exporter": "python",
   "pygments_lexer": "ipython3",
   "version": "3.13.7"
  }
 },
 "nbformat": 4,
 "nbformat_minor": 5
}
